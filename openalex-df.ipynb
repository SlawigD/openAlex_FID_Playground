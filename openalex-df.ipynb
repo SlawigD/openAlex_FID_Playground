import requests
import pandas as pd

def write_dataframe_to_csv(df, filename):

# Write DataFrame to CSV file
    df.to_csv(filename, index=False)
    print(f"DataFrame successfully written to {filename}")


# Make the API request
url = "https://api.openalex.org/works?filter=institutions.country_code:de,institutions.country_code:ua"
response = requests.get(url)

# Check if the request was successful
if response.status_code == 200:
    # Get the JSON data from the response
    data = response.json()

    # Extract the items from the JSON data
    items = data.get('results', [])

    # Create a DataFrame from the items
    df = pd.DataFrame(items)
    print(df.head())  # Print the first few rows of the DataFrame
else:
    print(f"Request failed with status code {response.status_code}")
